{
  "nbformat": 4,
  "nbformat_minor": 0,
  "metadata": {
    "colab": {
      "name": "ml_proj.ipynb",
      "version": "0.3.2",
      "provenance": [],
      "include_colab_link": true
    },
    "kernelspec": {
      "name": "python3",
      "display_name": "Python 3"
    },
    "accelerator": "GPU"
  },
  "cells": [
    {
      "cell_type": "markdown",
      "metadata": {
        "id": "view-in-github",
        "colab_type": "text"
      },
      "source": [
        "<a href=\"https://colab.research.google.com/github/nkotelevskii/Scaled-MMD-GAN/blob/master/ml_proj.ipynb\" target=\"_parent\"><img src=\"https://colab.research.google.com/assets/colab-badge.svg\" alt=\"Open In Colab\"/></a>"
      ]
    },
    {
      "metadata": {
        "id": "xqckgrYtJ0wX",
        "colab_type": "code",
        "colab": {
          "base_uri": "https://localhost:8080/",
          "height": 34
        },
        "outputId": "cb9ac6d2-0238-400a-9947-a9f5d5d86566"
      },
      "cell_type": "code",
      "source": [
        "from google.colab import drive\n",
        "drive.mount('/content/drive')"
      ],
      "execution_count": 1,
      "outputs": [
        {
          "output_type": "stream",
          "text": [
            "Drive already mounted at /content/drive; to attempt to forcibly remount, call drive.mount(\"/content/drive\", force_remount=True).\n"
          ],
          "name": "stdout"
        }
      ]
    },
    {
      "metadata": {
        "id": "gceRGjyfBXNe",
        "colab_type": "code",
        "colab": {
          "base_uri": "https://localhost:8080/",
          "height": 102
        },
        "outputId": "777fa62e-24f4-4d95-db31-91c08b9c3768"
      },
      "cell_type": "code",
      "source": [
        "!git clone https://github.com/MichaelArbel/Scaled-MMD-GAN"
      ],
      "execution_count": 2,
      "outputs": [
        {
          "output_type": "stream",
          "text": [
            "Cloning into 'Scaled-MMD-GAN'...\n",
            "remote: Enumerating objects: 1300, done.\u001b[K\n",
            "Receiving objects:   0% (1/1300)   \rReceiving objects:   1% (13/1300)   \rReceiving objects:   2% (26/1300)   \rReceiving objects:   3% (39/1300)   \rReceiving objects:   4% (52/1300)   \rReceiving objects:   5% (65/1300)   \rReceiving objects:   6% (78/1300)   \rReceiving objects:   7% (91/1300)   \rReceiving objects:   8% (104/1300)   \rReceiving objects:   9% (117/1300)   \rReceiving objects:  10% (130/1300)   \rReceiving objects:  11% (143/1300)   \rReceiving objects:  12% (156/1300)   \rReceiving objects:  13% (169/1300)   \rReceiving objects:  14% (182/1300)   \rReceiving objects:  15% (195/1300)   \rReceiving objects:  16% (208/1300)   \rReceiving objects:  17% (221/1300)   \rReceiving objects:  18% (234/1300)   \rReceiving objects:  19% (247/1300)   \rReceiving objects:  20% (260/1300)   \rReceiving objects:  21% (273/1300)   \rReceiving objects:  22% (286/1300)   \rReceiving objects:  23% (299/1300)   \rReceiving objects:  24% (312/1300)   \rReceiving objects:  25% (325/1300)   \rReceiving objects:  26% (338/1300)   \rReceiving objects:  27% (351/1300)   \rReceiving objects:  28% (364/1300)   \rReceiving objects:  29% (377/1300)   \rReceiving objects:  30% (390/1300)   \rReceiving objects:  31% (403/1300)   \rReceiving objects:  32% (416/1300)   \rReceiving objects:  33% (429/1300)   \rReceiving objects:  34% (442/1300)   \rReceiving objects:  35% (455/1300)   \rReceiving objects:  36% (468/1300)   \rReceiving objects:  37% (481/1300)   \rReceiving objects:  38% (494/1300)   \rReceiving objects:  39% (507/1300)   \rReceiving objects:  40% (520/1300)   \rReceiving objects:  41% (533/1300)   \rReceiving objects:  42% (546/1300)   \rReceiving objects:  43% (559/1300)   \rReceiving objects:  44% (572/1300)   \rReceiving objects:  45% (585/1300)   \rReceiving objects:  46% (598/1300)   \rReceiving objects:  47% (611/1300)   \rReceiving objects:  48% (624/1300)   \rReceiving objects:  49% (637/1300)   \rReceiving objects:  50% (650/1300)   \rReceiving objects:  51% (663/1300)   \rReceiving objects:  52% (676/1300)   \rReceiving objects:  53% (689/1300)   \rReceiving objects:  54% (702/1300)   \rReceiving objects:  55% (715/1300)   \rReceiving objects:  56% (728/1300)   \rReceiving objects:  57% (741/1300)   \rReceiving objects:  58% (754/1300)   \rReceiving objects:  59% (767/1300)   \rReceiving objects:  60% (780/1300)   \rReceiving objects:  61% (793/1300)   \rReceiving objects:  62% (806/1300)   \rReceiving objects:  63% (819/1300)   \rReceiving objects:  64% (832/1300)   \rReceiving objects:  65% (845/1300)   \rReceiving objects:  66% (858/1300)   \rReceiving objects:  67% (871/1300)   \rReceiving objects:  68% (884/1300)   \rReceiving objects:  69% (897/1300)   \rReceiving objects:  70% (910/1300)   \rReceiving objects:  71% (923/1300)   \rReceiving objects:  72% (936/1300)   \rReceiving objects:  73% (949/1300)   \rReceiving objects:  74% (962/1300)   \rReceiving objects:  75% (975/1300)   \rReceiving objects:  76% (988/1300)   \rReceiving objects:  77% (1001/1300)   \rReceiving objects:  78% (1014/1300)   \rReceiving objects:  79% (1027/1300)   \rReceiving objects:  80% (1040/1300)   \rReceiving objects:  81% (1053/1300)   \rReceiving objects:  82% (1066/1300)   \rReceiving objects:  83% (1079/1300)   \rReceiving objects:  84% (1092/1300)   \rReceiving objects:  85% (1105/1300)   \rReceiving objects:  86% (1118/1300)   \rReceiving objects:  87% (1131/1300)   \rremote: Total 1300 (delta 0), reused 0 (delta 0), pack-reused 1300\u001b[K\n",
            "Receiving objects:  88% (1144/1300)   \rReceiving objects:  89% (1157/1300)   \rReceiving objects:  90% (1170/1300)   \rReceiving objects:  91% (1183/1300)   \rReceiving objects:  92% (1196/1300)   \rReceiving objects:  93% (1209/1300)   \rReceiving objects:  94% (1222/1300)   \rReceiving objects:  95% (1235/1300)   \rReceiving objects:  96% (1248/1300)   \rReceiving objects:  97% (1261/1300)   \rReceiving objects:  98% (1274/1300)   \rReceiving objects:  99% (1287/1300)   \rReceiving objects: 100% (1300/1300)   \rReceiving objects: 100% (1300/1300), 11.27 MiB | 28.30 MiB/s, done.\n",
            "Resolving deltas:   0% (0/917)   \rResolving deltas:   1% (12/917)   \rResolving deltas:   2% (23/917)   \rResolving deltas:   4% (41/917)   \rResolving deltas:   7% (69/917)   \rResolving deltas:   9% (91/917)   \rResolving deltas:  10% (92/917)   \rResolving deltas:  12% (111/917)   \rResolving deltas:  13% (123/917)   \rResolving deltas:  14% (130/917)   \rResolving deltas:  15% (141/917)   \rResolving deltas:  16% (150/917)   \rResolving deltas:  17% (160/917)   \rResolving deltas:  18% (169/917)   \rResolving deltas:  20% (186/917)   \rResolving deltas:  21% (198/917)   \rResolving deltas:  22% (203/917)   \rResolving deltas:  24% (229/917)   \rResolving deltas:  26% (242/917)   \rResolving deltas:  27% (254/917)   \rResolving deltas:  29% (270/917)   \rResolving deltas:  34% (313/917)   \rResolving deltas:  38% (355/917)   \rResolving deltas:  39% (361/917)   \rResolving deltas:  40% (367/917)   \rResolving deltas:  41% (376/917)   \rResolving deltas:  43% (401/917)   \rResolving deltas:  44% (408/917)   \rResolving deltas:  45% (419/917)   \rResolving deltas:  46% (428/917)   \rResolving deltas:  47% (433/917)   \rResolving deltas:  49% (453/917)   \rResolving deltas:  50% (459/917)   \rResolving deltas:  51% (468/917)   \rResolving deltas:  53% (487/917)   \rResolving deltas:  54% (502/917)   \rResolving deltas:  64% (594/917)   \rResolving deltas:  70% (648/917)   \rResolving deltas:  73% (672/917)   \rResolving deltas:  74% (681/917)   \rResolving deltas:  76% (702/917)   \rResolving deltas:  78% (719/917)   \rResolving deltas:  80% (736/917)   \rResolving deltas:  81% (743/917)   \rResolving deltas:  84% (779/917)   \rResolving deltas:  85% (785/917)   \rResolving deltas:  91% (836/917)   \rResolving deltas:  94% (863/917)   \rResolving deltas:  98% (906/917)   \rResolving deltas:  99% (909/917)   \rResolving deltas: 100% (917/917)   \rResolving deltas: 100% (917/917), done.\n"
          ],
          "name": "stdout"
        }
      ]
    },
    {
      "metadata": {
        "id": "jYgBlyXefFJn",
        "colab_type": "code",
        "colab": {
          "base_uri": "https://localhost:8080/",
          "height": 34
        },
        "outputId": "6d483d97-ff37-41a1-abaa-58b347ba98ea"
      },
      "cell_type": "code",
      "source": [
        "!pwd"
      ],
      "execution_count": 4,
      "outputs": [
        {
          "output_type": "stream",
          "text": [
            "/content/Scaled-MMD-GAN\n"
          ],
          "name": "stdout"
        }
      ]
    },
    {
      "metadata": {
        "id": "JfXT8hee7UHu",
        "colab_type": "code",
        "colab": {
          "base_uri": "https://localhost:8080/",
          "height": 34
        },
        "outputId": "654f94d6-19cb-4ad7-84b8-c28b5a080e72"
      },
      "cell_type": "code",
      "source": [
        "cd .."
      ],
      "execution_count": 5,
      "outputs": [
        {
          "output_type": "stream",
          "text": [
            "/content\n"
          ],
          "name": "stdout"
        }
      ]
    },
    {
      "metadata": {
        "id": "U0O_pTOd2Zyx",
        "colab_type": "code",
        "colab": {}
      },
      "cell_type": "code",
      "source": [
        "!mkdir 'Scaled-MMD-GAN/gan/data'"
      ],
      "execution_count": 0,
      "outputs": []
    },
    {
      "metadata": {
        "id": "0yoJLkMVCtG0",
        "colab_type": "code",
        "colab": {}
      },
      "cell_type": "code",
      "source": [
        "!mkdir 'Scaled-MMD-GAN/gan/data/kmnist'"
      ],
      "execution_count": 0,
      "outputs": []
    },
    {
      "metadata": {
        "id": "XUvMEQMYfAsO",
        "colab_type": "code",
        "colab": {}
      },
      "cell_type": "code",
      "source": [
        "!rm -r 'Scaled-MMD-GAN/gan/data/kmnist'"
      ],
      "execution_count": 0,
      "outputs": []
    },
    {
      "metadata": {
        "id": "nWZSFgDUga3B",
        "colab_type": "code",
        "colab": {
          "base_uri": "https://localhost:8080/",
          "height": 34
        },
        "outputId": "bcefd89c-6a61-470b-f370-35887173fc17"
      },
      "cell_type": "code",
      "source": [
        "cd Scaled-MMD-GAN"
      ],
      "execution_count": 11,
      "outputs": [
        {
          "output_type": "stream",
          "text": [
            "/content/Scaled-MMD-GAN\n"
          ],
          "name": "stdout"
        }
      ]
    },
    {
      "metadata": {
        "id": "lOPPPJRTO9jy",
        "colab_type": "code",
        "colab": {
          "base_uri": "https://localhost:8080/",
          "height": 85
        },
        "outputId": "b96e7e22-41c5-4a51-8673-4739f1f5c014"
      },
      "cell_type": "code",
      "source": [
        "OUTPUT_DATA_DIR='gan/data'\n",
        "!python scripts/download.py kmnist -- $OUTPUT_DATA_DIR"
      ],
      "execution_count": 13,
      "outputs": [
        {
          "output_type": "stream",
          "text": [
            "Decompressing  train-images-idx3-ubyte.gz\n",
            "Decompressing  train-labels-idx1-ubyte.gz\n",
            "Decompressing  t10k-images-idx3-ubyte.gz\n",
            "Decompressing  t10k-labels-idx1-ubyte.gz\n"
          ],
          "name": "stdout"
        }
      ]
    },
    {
      "metadata": {
        "id": "m5DQwlbDO-g1",
        "colab_type": "code",
        "colab": {
          "base_uri": "https://localhost:8080/",
          "height": 34
        },
        "outputId": "3f3aa1f0-a1ea-44fb-d8ae-234e604a71e6"
      },
      "cell_type": "code",
      "source": [
        "!pwd"
      ],
      "execution_count": 2,
      "outputs": [
        {
          "output_type": "stream",
          "text": [
            "/content\n"
          ],
          "name": "stdout"
        }
      ]
    },
    {
      "metadata": {
        "id": "a10g1pZdP4ZC",
        "colab_type": "code",
        "colab": {
          "base_uri": "https://localhost:8080/",
          "height": 34
        },
        "outputId": "31a81394-9c83-4300-c77a-cd6184debf5b"
      },
      "cell_type": "code",
      "source": [
        "cd /content/Scaled-MMD-GAN"
      ],
      "execution_count": 8,
      "outputs": [
        {
          "output_type": "stream",
          "text": [
            "/content/Scaled-MMD-GAN\n"
          ],
          "name": "stdout"
        }
      ]
    },
    {
      "metadata": {
        "id": "LOlZe-2gWzId",
        "colab_type": "code",
        "colab": {
          "base_uri": "https://localhost:8080/",
          "height": 34
        },
        "outputId": "7b312787-babf-49da-e9a3-2ecca8b590ac"
      },
      "cell_type": "code",
      "source": [
        "cd .."
      ],
      "execution_count": 17,
      "outputs": [
        {
          "output_type": "stream",
          "text": [
            "/content\n"
          ],
          "name": "stdout"
        }
      ]
    },
    {
      "metadata": {
        "id": "Ye0-FfAjWa9I",
        "colab_type": "code",
        "colab": {}
      },
      "cell_type": "code",
      "source": [
        "cp 't10k-images-idx3-ubyte.gz' 'Scaled-MMD-GAN/gan/data/kmnist/'"
      ],
      "execution_count": 0,
      "outputs": []
    },
    {
      "metadata": {
        "id": "VFcrSwWV1hVP",
        "colab_type": "code",
        "colab": {}
      },
      "cell_type": "code",
      "source": [
        "cp 't10k-labels-idx1-ubyte.gz' 'Scaled-MMD-GAN/gan/data/kmnist/'"
      ],
      "execution_count": 0,
      "outputs": []
    },
    {
      "metadata": {
        "id": "XGvTBPth1kWN",
        "colab_type": "code",
        "colab": {}
      },
      "cell_type": "code",
      "source": [
        "cp 'train-images-idx3-ubyte.gz' 'Scaled-MMD-GAN/gan/data/kmnist/'"
      ],
      "execution_count": 0,
      "outputs": []
    },
    {
      "metadata": {
        "id": "ZMChoZBM1mNu",
        "colab_type": "code",
        "colab": {}
      },
      "cell_type": "code",
      "source": [
        "cp 'train-labels-idx1-ubyte.gz' 'Scaled-MMD-GAN/gan/data/kmnist/'"
      ],
      "execution_count": 0,
      "outputs": []
    },
    {
      "metadata": {
        "id": "G0TNYq33lIfx",
        "colab_type": "code",
        "colab": {
          "base_uri": "https://localhost:8080/",
          "height": 34
        },
        "outputId": "db83e2e2-cb27-4ba6-93f3-af17efcd6e9a"
      },
      "cell_type": "code",
      "source": [
        "cd .."
      ],
      "execution_count": 31,
      "outputs": [
        {
          "output_type": "stream",
          "text": [
            "/content\n"
          ],
          "name": "stdout"
        }
      ]
    },
    {
      "metadata": {
        "id": "rV9aDITm-6RH",
        "colab_type": "code",
        "colab": {}
      },
      "cell_type": "code",
      "source": [
        "!pwd"
      ],
      "execution_count": 0,
      "outputs": []
    },
    {
      "metadata": {
        "id": "wI18X-eg4XfW",
        "colab_type": "code",
        "colab": {}
      },
      "cell_type": "code",
      "source": [
        "cp 'main.py' 'Scaled-MMD-GAN/gan/'"
      ],
      "execution_count": 0,
      "outputs": []
    },
    {
      "metadata": {
        "id": "z0PKmUNu4gxI",
        "colab_type": "code",
        "colab": {}
      },
      "cell_type": "code",
      "source": [
        "cp 'pipeline.py' 'Scaled-MMD-GAN/gan/core/'"
      ],
      "execution_count": 0,
      "outputs": []
    },
    {
      "metadata": {
        "id": "TNzGeQpv41ll",
        "colab_type": "code",
        "colab": {}
      },
      "cell_type": "code",
      "source": [
        "cp 'download.py' 'Scaled-MMD-GAN/scripts/'"
      ],
      "execution_count": 0,
      "outputs": []
    },
    {
      "metadata": {
        "id": "L95Fk_wIDVR-",
        "colab_type": "code",
        "colab": {
          "base_uri": "https://localhost:8080/",
          "height": 34
        },
        "outputId": "6eb89028-4043-49a8-b3eb-f5f14bb7de32"
      },
      "cell_type": "code",
      "source": [
        "cd .."
      ],
      "execution_count": 16,
      "outputs": [
        {
          "output_type": "stream",
          "text": [
            "/content\n"
          ],
          "name": "stdout"
        }
      ]
    },
    {
      "metadata": {
        "id": "RxTn-Ud6CndM",
        "colab_type": "code",
        "colab": {
          "base_uri": "https://localhost:8080/",
          "height": 34
        },
        "outputId": "c35054ec-c40c-4a52-a02a-3e5007c44ddb"
      },
      "cell_type": "code",
      "source": [
        "cd Scaled-MMD-GAN/gan/"
      ],
      "execution_count": 2,
      "outputs": [
        {
          "output_type": "stream",
          "text": [
            "/content/Scaled-MMD-GAN/gan\n"
          ],
          "name": "stdout"
        }
      ]
    },
    {
      "metadata": {
        "id": "ddelTGOgGP2V",
        "colab_type": "code",
        "colab": {
          "base_uri": "https://localhost:8080/",
          "height": 1618
        },
        "outputId": "a1260724-123f-4e87-c17e-83a6bda03872"
      },
      "cell_type": "code",
      "source": [
        "%run main.py"
      ],
      "execution_count": 0,
      "outputs": [
        {
          "output_type": "stream",
          "text": [
            "{'L2_discriminator_penalty': 0.0,\n",
            " 'MMD_lr_scheduler': True,\n",
            " 'MMD_sdlr_freq': 2000,\n",
            " 'MMD_sdlr_num_test': 3,\n",
            " 'MMD_sdlr_past_sample': 10,\n",
            " 'architecture': 'sngan',\n",
            " 'batch_norm': False,\n",
            " 'batch_size': 64,\n",
            " 'beta1': 0.5,\n",
            " 'beta2': 0.9,\n",
            " 'c_dim': 3,\n",
            " 'checkpoint_dir': 'checkpoint',\n",
            " 'ckpt_name': '',\n",
            " 'clip_grad': True,\n",
            " 'compute_scores': False,\n",
            " 'config_file': '',\n",
            " 'data_dir': 'data',\n",
            " 'dataset': 'kmnist',\n",
            " 'decay_rate': 0.8,\n",
            " 'df_dim': 64,\n",
            " 'dof_dim': 1,\n",
            " 'dsteps': 5,\n",
            " 'gf_dim': 64,\n",
            " 'gp_decay_rate': 0.8,\n",
            " 'gpu_mem': 0.9,\n",
            " 'gradient_penalty': 0.0,\n",
            " 'gsteps': 1,\n",
            " 'incho_eta': 0.001,\n",
            " 'incho_max_steps': 1000,\n",
            " 'init': 0.02,\n",
            " 'is_demo': False,\n",
            " 'is_train': True,\n",
            " 'kernel': 'rbf',\n",
            " 'learning_rate': 0.0001,\n",
            " 'learning_rate_D': -1,\n",
            " 'log': True,\n",
            " 'log_dir': 'log',\n",
            " 'max_iteration': 150000,\n",
            " 'model': 'smmd',\n",
            " 'multi_gpu': False,\n",
            " 'name': '',\n",
            " 'no_of_samples': 100000,\n",
            " 'num_gpus': 1,\n",
            " 'out_dir': '',\n",
            " 'output_size': 128,\n",
            " 'print_pca': False,\n",
            " 'real_batch_size': -1,\n",
            " 'restart_lr': False,\n",
            " 'restart_sc': False,\n",
            " 'sample_dir': 'sample',\n",
            " 'save_layer_outputs': 0,\n",
            " 'sc_decay_rate': 1.0,\n",
            " 'scaling_coeff': 10.0,\n",
            " 'scaling_variant': 'grad',\n",
            " 'start_dsteps': 10,\n",
            " 'suffix': '',\n",
            " 'use_gaussian_noise': False,\n",
            " 'use_incomplete_cho': True,\n",
            " 'visualize': True,\n",
            " 'with_labels': False,\n",
            " 'with_learnable_sn_scale': False,\n",
            " 'with_scaling': True,\n",
            " 'with_sn': False,\n",
            " 'z_dim': 128}\n",
            "Execution start time: Sat Mar 16 10:35:58 2019\n",
            "Log file: <_io.TextIOWrapper name='sample/kmnist64x64_sngan_dc_smmd-rbfd5-10-1_64_28_lr0.00010000/log.txt' mode='w' encoding='UTF-8'>\n",
            "WARNING:tensorflow:From /content/Scaled-MMD-GAN/gan/core/pipeline.py:379: input_producer (from tensorflow.python.training.input) is deprecated and will be removed in a future version.\n",
            "Instructions for updating:\n",
            "Queue-based input pipelines have been replaced by `tf.data`. Use `tf.data.Dataset.from_tensor_slices(input_tensor).shuffle(tf.shape(input_tensor, out_type=tf.int64)[0]).repeat(num_epochs)`. If `shuffle=False`, omit the `.shuffle(...)`.\n",
            "WARNING:tensorflow:From /usr/local/lib/python3.6/dist-packages/tensorflow/python/training/input.py:190: limit_epochs (from tensorflow.python.training.input) is deprecated and will be removed in a future version.\n",
            "Instructions for updating:\n",
            "Queue-based input pipelines have been replaced by `tf.data`. Use `tf.data.Dataset.from_tensors(tensor).repeat(num_epochs)`.\n",
            "WARNING:tensorflow:From /usr/local/lib/python3.6/dist-packages/tensorflow/python/training/input.py:199: QueueRunner.__init__ (from tensorflow.python.training.queue_runner_impl) is deprecated and will be removed in a future version.\n",
            "Instructions for updating:\n",
            "To construct input pipelines, use the `tf.data` module.\n",
            "WARNING:tensorflow:From /usr/local/lib/python3.6/dist-packages/tensorflow/python/training/input.py:199: add_queue_runner (from tensorflow.python.training.queue_runner_impl) is deprecated and will be removed in a future version.\n",
            "Instructions for updating:\n",
            "To construct input pipelines, use the `tf.data` module.\n",
            "WARNING:tensorflow:From /content/Scaled-MMD-GAN/gan/core/pipeline.py:51: shuffle_batch (from tensorflow.python.training.input) is deprecated and will be removed in a future version.\n",
            "Instructions for updating:\n",
            "Queue-based input pipelines have been replaced by `tf.data`. Use `tf.data.Dataset.shuffle(min_after_dequeue).batch(batch_size)`.\n",
            "WARNING:tensorflow:From /usr/local/lib/python3.6/dist-packages/tensorflow/python/training/input.py:861: to_float (from tensorflow.python.ops.math_ops) is deprecated and will be removed in a future version.\n",
            "Instructions for updating:\n",
            "Use tf.cast instead.\n",
            "WARNING:tensorflow:From /usr/local/lib/python3.6/dist-packages/tensorflow/python/ops/data_flow_ops.py:1809: colocate_with (from tensorflow.python.framework.ops) is deprecated and will be removed in a future version.\n",
            "Instructions for updating:\n",
            "Colocations handled automatically by placer.\n",
            "WARNING:tensorflow:From /usr/local/lib/python3.6/dist-packages/tensorflow/python/ops/math_ops.py:3066: to_int32 (from tensorflow.python.ops.math_ops) is deprecated and will be removed in a future version.\n",
            "Instructions for updating:\n",
            "Use tf.cast instead.\n",
            "WARNING:tensorflow:From /content/Scaled-MMD-GAN/gan/core/pipeline.py:62: start_queue_runners (from tensorflow.python.training.queue_runner_impl) is deprecated and will be removed in a future version.\n",
            "Instructions for updating:\n",
            "To construct input pipelines, use the `tf.data` module.\n"
          ],
          "name": "stdout"
        }
      ]
    },
    {
      "metadata": {
        "id": "eNmVyZEFVufK",
        "colab_type": "text"
      },
      "cell_type": "markdown",
      "source": [
        ""
      ]
    },
    {
      "metadata": {
        "id": "YgzwPB5kGtXa",
        "colab_type": "code",
        "colab": {}
      },
      "cell_type": "code",
      "source": [
        ""
      ],
      "execution_count": 0,
      "outputs": []
    }
  ]
}